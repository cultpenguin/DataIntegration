{
 "cells": [
  {
   "cell_type": "code",
   "execution_count": 6,
   "id": "f93da46e",
   "metadata": {},
   "outputs": [],
   "source": [
    "import matplotlib.pyplot as plt\n",
    "import scipy as sp\n",
    "import numpy as np"
   ]
  },
  {
   "cell_type": "code",
   "execution_count": 7,
   "id": "bb2bff83",
   "metadata": {},
   "outputs": [],
   "source": [
    "file_mat = 'logl_test_data.mat'\n",
    "# list all varaiables in Matlab file file_mat\n",
    "sp.io.whosmat(file_mat)\n",
    "\n",
    "MAT = sp.io.loadmat(file_mat)\n",
    "d0 = MAT['d0_1'].flatten()\n",
    "dstd = MAT['dstd_1'].flatten()\n",
    "\n",
    "\n",
    "def loglikelihood(d, d_obs, d_std):\n",
    "    f = -0.5 * np.sum((d_obs - d) ** 2 / (d_std ** 2))\n",
    "    return f\n",
    "\n"
   ]
  },
  {
   "cell_type": "code",
   "execution_count": 8,
   "id": "37409031",
   "metadata": {
    "lines_to_next_cell": 2,
    "title": "Generate sample"
   },
   "outputs": [],
   "source": [
    "nd = d0.shape[0]\n",
    "d_sample = np.zeros((nd,1000))\n",
    "logL_sample = np.zeros((1000))\n",
    "N=1000\n",
    "for i in range(N):\n",
    "    # generate a sample from N(d0,dstd)\n",
    "    d_real = np.random.normal(d0,dstd)\n",
    "    d_sample[:,i] = d_real\n",
    "    logL_sample[i]=loglikelihood(d_real, d0, dstd)    "
   ]
  },
  {
   "cell_type": "code",
   "execution_count": null,
   "id": "e69a24e1",
   "metadata": {},
   "outputs": [],
   "source": []
  },
  {
   "cell_type": "code",
   "execution_count": null,
   "id": "19f5ec28-ceb1-464c-be3f-ca368629732c",
   "metadata": {},
   "outputs": [],
   "source": []
  }
 ],
 "metadata": {
  "jupytext": {
   "cell_metadata_filter": "title,-all",
   "notebook_metadata_filter": "-all"
  },
  "kernelspec": {
   "display_name": "python-tf",
   "language": "python",
   "name": "python-tf"
  },
  "language_info": {
   "codemirror_mode": {
    "name": "ipython",
    "version": 3
   },
   "file_extension": ".py",
   "mimetype": "text/x-python",
   "name": "python",
   "nbconvert_exporter": "python",
   "pygments_lexer": "ipython3",
   "version": "3.9.16"
  }
 },
 "nbformat": 4,
 "nbformat_minor": 5
}
